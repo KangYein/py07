{
  "nbformat": 4,
  "nbformat_minor": 0,
  "metadata": {
    "colab": {
      "name": "ch3_exercises.py07.ipynb",
      "provenance": [],
      "collapsed_sections": [],
      "include_colab_link": true
    },
    "kernelspec": {
      "name": "python3",
      "display_name": "Python 3"
    }
  },
  "cells": [
    {
      "cell_type": "markdown",
      "metadata": {
        "id": "view-in-github",
        "colab_type": "text"
      },
      "source": [
        "<a href=\"https://colab.research.google.com/github/KangYein/py07/blob/master/ch3_exercises_py07.ipynb\" target=\"_parent\"><img src=\"https://colab.research.google.com/assets/colab-badge.svg\" alt=\"Open In Colab\"/></a>"
      ]
    },
    {
      "cell_type": "markdown",
      "metadata": {
        "id": "ovY5jkD5dpxE",
        "colab_type": "text"
      },
      "source": [
        "## ch3_exercises.ipynb"
      ]
    },
    {
      "cell_type": "markdown",
      "metadata": {
        "id": "SZw6UnxQWYBe",
        "colab_type": "text"
      },
      "source": [
        "## Q1.\n",
        "> 다음 코드의 결괏값은 무엇일까?\n",
        "\n",
        "```\n",
        "a = \"Life is too short, you need python\"\n",
        "if \"wife\" in a: print(\"wife\")\n",
        "elif \"python\" in a and \"you\" not in a: print(\"python\")\n",
        "elif \"shirt\" not in a: print(\"shirt\")\n",
        "elif \"need\" in a: print(\"need\")\n",
        "else: print(\"none\")\n",
        "\n",
        "```"
      ]
    },
    {
      "cell_type": "code",
      "metadata": {
        "id": "rUNNaqJPdg7B",
        "colab_type": "code",
        "outputId": "d9b6b79b-389a-4969-969d-13cff76fd21c",
        "colab": {
          "base_uri": "https://localhost:8080/",
          "height": 35
        }
      },
      "source": [
        "# [Q1] Code  \n",
        "a = \"Life is too short, you need python\"\n",
        "if \"wife\" in a: print(\"wife\") #wife란 단어가 안들어가 있으므로 실행이 안된다.\n",
        "elif \"python\" in a and \"you\" not in a: print(\"python\") #python란 단어가 a에 들어가 있고 python란 단어가 a에 들어가 있으므로 실행이 안된다.\n",
        "elif \"shirt\" not in a: print(\"shirt\") #shirt란 단어가 안들어가 있으므로 실행이 된다.\n",
        "elif \"need\" in a: print(\"need\") #need란 단어가 들어가 있지만 이미 앞에서 elif가 실행됐기 때문에 실행이 안된다.\n",
        "else: print(\"none\") #위에 조건에서 맞는게 없으면 none을 출력\n"
      ],
      "execution_count": 0,
      "outputs": [
        {
          "output_type": "stream",
          "text": [
            "shirt\n"
          ],
          "name": "stdout"
        }
      ]
    },
    {
      "cell_type": "markdown",
      "metadata": {
        "colab_type": "text",
        "id": "re2-XrUYXF1m"
      },
      "source": [
        "## Q2.\n",
        "> while문을 사용해 1부터 1000까지의 자연수 중 3의 배수의 합을 구해 보자.\n"
      ]
    },
    {
      "cell_type": "code",
      "metadata": {
        "colab_type": "code",
        "id": "5MBLUZ5WXF1q",
        "outputId": "fbebcb2e-dfb3-4822-aa40-0f4690dfa643",
        "colab": {
          "base_uri": "https://localhost:8080/",
          "height": 35
        }
      },
      "source": [
        "# [Q2] Code\n",
        "a=0\n",
        "sum=0\n",
        "while a < 1000:\n",
        "  a=a+1\n",
        "  if a%3==0:\n",
        "    sum=sum+a\n",
        "  else: continue\n",
        "print(\"1부터 1000까지 3의 배수의 합은 %d 입니다.\" %sum)\n"
      ],
      "execution_count": 0,
      "outputs": [
        {
          "output_type": "stream",
          "text": [
            "1부터 1000까지 3의 배수의 합은 166833 입니다.\n"
          ],
          "name": "stdout"
        }
      ]
    },
    {
      "cell_type": "markdown",
      "metadata": {
        "colab_type": "text",
        "id": "UZy8lu_BXGnT"
      },
      "source": [
        "## Q3.\n",
        "> while문을 사용하여 다음과 같이 별(*)을 표시하는 프로그램을 작성해 보자.\n",
        "\n",
        "```\n",
        "*\n",
        "**\n",
        "***\n",
        "****\n",
        "*****\n",
        "\n",
        "```\n"
      ]
    },
    {
      "cell_type": "code",
      "metadata": {
        "id": "GXxSxcZtIuwF",
        "colab_type": "code",
        "outputId": "63acc03f-9082-42a9-c701-33af0354d89e",
        "colab": {
          "base_uri": "https://localhost:8080/",
          "height": 107
        }
      },
      "source": [
        "# [Q3] Code1\n",
        "i=0\n",
        "while i<5:\n",
        "  i+=1 #i가 1씩 증가\n",
        "  print(\"*\"*i) #*을 i번 출력,문자열 연산 방식"
      ],
      "execution_count": 0,
      "outputs": [
        {
          "output_type": "stream",
          "text": [
            "*\n",
            "**\n",
            "***\n",
            "****\n",
            "*****\n"
          ],
          "name": "stdout"
        }
      ]
    },
    {
      "cell_type": "markdown",
      "metadata": {
        "colab_type": "text",
        "id": "fqypxxqTXHY7"
      },
      "source": [
        "## Q4.\n",
        "> for문을 사용해 1부터 100까지의 숫자를 출력해 보자.\n",
        "- 단순 for문 사용\n",
        "- 리스트 내포 사용"
      ]
    },
    {
      "cell_type": "code",
      "metadata": {
        "colab_type": "code",
        "id": "oQ5UnmayXHY-",
        "colab": {}
      },
      "source": [
        "# [Q4] Code1 for문 사용\n",
        "for i in range(1, 101) :#1부터 100까지 출력한다. 실제 사용하는 마지막 횟수에는 (종료숫자-1)이다.\n",
        "    print(i)"
      ],
      "execution_count": 0,
      "outputs": []
    },
    {
      "cell_type": "code",
      "metadata": {
        "id": "D_oQcfY9kzwB",
        "colab_type": "code",
        "outputId": "1f7c91b2-0e8e-4b10-9009-19a531237037",
        "colab": {
          "base_uri": "https://localhost:8080/",
          "height": 197
        }
      },
      "source": [
        "# [Q4] Code2 함수 호출 사용\n",
        "def a(x,y): #x부터 y까지 출력하는 함수 만들기\n",
        "  while x<(y+1):\n",
        "    print(x)\n",
        "    x=x+1\n",
        "a(1,3)#1부터 3까지 출력 예\n",
        "#사용자가 직접 입력\n",
        "num1=int(input(\"첫번째 숫자 입력:\"))\n",
        "num2=int(input(\"두번째 숫자 입력:\"))\n",
        "a(num1,num2)"
      ],
      "execution_count": 0,
      "outputs": [
        {
          "output_type": "stream",
          "text": [
            "1\n",
            "2\n",
            "3\n",
            "첫번째 숫자 입력:1\n",
            "두번째 숫자 입력:5\n",
            "1\n",
            "2\n",
            "3\n",
            "4\n",
            "5\n"
          ],
          "name": "stdout"
        }
      ]
    },
    {
      "cell_type": "code",
      "metadata": {
        "id": "YyFYvK_jNui9",
        "colab_type": "code",
        "outputId": "492e0f83-6b03-4b2b-d2e1-c389fc46e6c8",
        "colab": {
          "base_uri": "https://localhost:8080/",
          "height": 54
        }
      },
      "source": [
        "# [Q4] Code2 리스트 내포 사용\n",
        "number=[x for x in range(1,101)]\n",
        "print(number)"
      ],
      "execution_count": 0,
      "outputs": [
        {
          "output_type": "stream",
          "text": [
            "[1, 2, 3, 4, 5, 6, 7, 8, 9, 10, 11, 12, 13, 14, 15, 16, 17, 18, 19, 20, 21, 22, 23, 24, 25, 26, 27, 28, 29, 30, 31, 32, 33, 34, 35, 36, 37, 38, 39, 40, 41, 42, 43, 44, 45, 46, 47, 48, 49, 50, 51, 52, 53, 54, 55, 56, 57, 58, 59, 60, 61, 62, 63, 64, 65, 66, 67, 68, 69, 70, 71, 72, 73, 74, 75, 76, 77, 78, 79, 80, 81, 82, 83, 84, 85, 86, 87, 88, 89, 90, 91, 92, 93, 94, 95, 96, 97, 98, 99, 100]\n"
          ],
          "name": "stdout"
        }
      ]
    },
    {
      "cell_type": "markdown",
      "metadata": {
        "colab_type": "text",
        "id": "NKsvciXZXIL-"
      },
      "source": [
        "## Q5.\n",
        "> A 학급에 총 10명의 학생이 있다. 이 학생들의 중간고사 점수는 다음과 같다.\n",
        "\n",
        "- [70, 60, 55, 75, 95, 90, 80, 80, 85, 100]\n",
        "\n",
        "- for문을 사용하여 A 학급의 평균 점수를 구해 보자."
      ]
    },
    {
      "cell_type": "code",
      "metadata": {
        "colab_type": "code",
        "id": "5MZQYOVjXIL_",
        "outputId": "5ff8f08e-49d7-43b9-a64b-516e26e9ea5c",
        "colab": {
          "base_uri": "https://localhost:8080/",
          "height": 35
        }
      },
      "source": [
        "# [Q5] Code1\n",
        "a=[70, 60, 55, 75, 95, 90, 80, 80, 85, 100]\n",
        "sum=0\n",
        "for i in a:\n",
        "  sum+=i\n",
        "average=sum/10\n",
        "print(\"A학급의 점수 총합은 %d이며 평균 점수는 %.1f입니다.\" %(sum,average)) #소수점 첫째자리까지 출력"
      ],
      "execution_count": 0,
      "outputs": [
        {
          "output_type": "stream",
          "text": [
            "A학급의 점수 총합은 790이며 평균 점수는 79.0입니다.\n"
          ],
          "name": "stdout"
        }
      ]
    },
    {
      "cell_type": "code",
      "metadata": {
        "id": "QjloTpWvwXpc",
        "colab_type": "code",
        "outputId": "3f13725f-b432-46d0-d52c-00e48a1fe7a5",
        "colab": {
          "base_uri": "https://localhost:8080/",
          "height": 35
        }
      },
      "source": [
        "# [Q5] Code2\n",
        "a=[70, 60, 55, 75, 95, 90, 80, 80, 85, 100]\n",
        "sum=0\n",
        "for i in range(0,10):\n",
        "  sum+=a[i] #a[0]~a[9]의 값을 더한다.\n",
        "print(sum/10)"
      ],
      "execution_count": 0,
      "outputs": [
        {
          "output_type": "stream",
          "text": [
            "79.0\n"
          ],
          "name": "stdout"
        }
      ]
    },
    {
      "cell_type": "code",
      "metadata": {
        "id": "pcYhKDPYym9P",
        "colab_type": "code",
        "outputId": "9d747688-e021-4202-e559-3a3b3b87a45f",
        "colab": {
          "base_uri": "https://localhost:8080/",
          "height": 35
        }
      },
      "source": [
        "# [Q5] Code3\n",
        "a=[70, 60, 55, 75, 95, 90, 80, 80, 85, 100]\n",
        "i=0\n",
        "sum=0\n",
        "while i<10:\n",
        "  sum+=a[i]\n",
        "  i+=1\n",
        "print(sum/10)"
      ],
      "execution_count": 0,
      "outputs": [
        {
          "output_type": "stream",
          "text": [
            "79.0\n"
          ],
          "name": "stdout"
        }
      ]
    },
    {
      "cell_type": "code",
      "metadata": {
        "id": "hPN-kxlW5ufN",
        "colab_type": "code",
        "outputId": "7e9f4cb6-8bfd-410b-e21b-3b7f97d7a9dc",
        "colab": {
          "base_uri": "https://localhost:8080/",
          "height": 215
        }
      },
      "source": [
        "# [Q5] Code4\n",
        "scores=[]\n",
        "scores.append(input(\"과목1:\"))\n",
        "scores.append(input(\"과목2:\"))\n",
        "scores.append(input(\"과목3:\"))\n",
        "scores.append(input(\"과목4:\"))\n",
        "scores.append(input(\"과목5:\"))\n",
        "scores.append(input(\"과목6:\"))\n",
        "scores.append(input(\"과목7:\"))\n",
        "scores.append(input(\"과목8:\"))\n",
        "scores.append(input(\"과목9:\"))\n",
        "scores.append(input(\"과목10:\"))\n",
        "sum=0\n",
        "for i in range(0,10):\n",
        "  sum+=int(scores[i])\n",
        "average=sum/10\n",
        "print(\"평균: %.2f\" %average)"
      ],
      "execution_count": 0,
      "outputs": [
        {
          "output_type": "stream",
          "text": [
            "과목1:70\n",
            "과목2:60\n",
            "과목3:55\n",
            "과목4:75\n",
            "과목5:95\n",
            "과목6:90\n",
            "과목7:80\n",
            "과목8:85\n",
            "과목9:100\n",
            "과목10:80\n",
            "평균: 79.00\n"
          ],
          "name": "stdout"
        }
      ]
    },
    {
      "cell_type": "markdown",
      "metadata": {
        "colab_type": "text",
        "id": "-3KHtOOoXJBV"
      },
      "source": [
        "## Q6.\n",
        "> 리스트 중에서 홀수에만 2를 곱하여 저장하는 다음 코드가 있다.\n",
        "```\n",
        "numbers = [1, 2, 3, 4, 5, 6, 7, 8, 9]\n",
        "result = []\n",
        "for n in numbers:\n",
        "    if n % 2 == 1:\n",
        "        result.append(n*2)\n",
        "```\n",
        "\n",
        "- 위 코드를 리스트 내포(list comprehension)를 사용하여 표현해 보자."
      ]
    },
    {
      "cell_type": "code",
      "metadata": {
        "colab_type": "code",
        "id": "AjYR0lUaXJBa",
        "outputId": "6d51116e-8baa-45c8-cb24-17996eb674ca",
        "colab": {
          "base_uri": "https://localhost:8080/",
          "height": 35
        }
      },
      "source": [
        "# [Q6] Code1 리스트 내포 사용\n",
        "numbers = [1, 2, 3, 4, 5, 6, 7, 8, 9]\n",
        "result = [num * 2 for num in numbers if num % 2 == 1] #홀수에만 2를 곱함\n",
        "print(result)\n"
      ],
      "execution_count": 0,
      "outputs": [
        {
          "output_type": "stream",
          "text": [
            "[2, 6, 10, 14, 18]\n"
          ],
          "name": "stdout"
        }
      ]
    },
    {
      "cell_type": "code",
      "metadata": {
        "id": "iShkvfe_fXiQ",
        "colab_type": "code",
        "outputId": "81b9bbfa-9480-43c3-8ae1-a8dbea205879",
        "colab": {
          "base_uri": "https://localhost:8080/",
          "height": 34
        }
      },
      "source": [
        "# [Q6] Code2 while문 사용\n",
        "numbers = [1, 2, 3, 4, 5, 6, 7, 8, 9]\n",
        "result = []\n",
        "i=0\n",
        "while i<9:\n",
        "    if numbers[i] % 2 == 1:\n",
        "        result.append(numbers[i]*2)\n",
        "    i+=1\n",
        "print(result)"
      ],
      "execution_count": 0,
      "outputs": [
        {
          "output_type": "stream",
          "text": [
            "[2, 6, 10, 14, 18]\n"
          ],
          "name": "stdout"
        }
      ]
    },
    {
      "cell_type": "markdown",
      "metadata": {
        "colab_type": "text",
        "id": "YrS3b88QbmKo"
      },
      "source": [
        "## Q7.\n",
        "> ## [Challenge] 응용 코드 : 평균 성적을 구하시오.\n",
        "```\n",
        "subjects = ['파이썬', '영어', '수학', '물리']\n",
        "scores = [91, 67, 88, 75]\n",
        "```\n",
        "\n",
        "- 평균 성적을 세가지 이상의 방법으로 구하시오."
      ]
    },
    {
      "cell_type": "code",
      "metadata": {
        "colab_type": "code",
        "id": "Ll_2InMWbmKq",
        "outputId": "bab931af-4458-4372-a68f-b841cd04a6aa",
        "colab": {
          "base_uri": "https://localhost:8080/",
          "height": 53
        }
      },
      "source": [
        "# [Q7] Code-1 for문 사용\n",
        "subjects = ['파이썬', '영어', '수학', '물리']\n",
        "scores = [91, 67, 88, 75]\n",
        "sum=0\n",
        "for i in range(0,4):\n",
        "  subjects[i]=scores[i]\n",
        "  sum+=subjects[i]\n",
        "print(\"과목수:\",len(subjects))\n",
        "average=sum/(len(subjects))\n",
        "print(\"평균: %.2f\" %average) #소수점 첫째자리까지 출력\n"
      ],
      "execution_count": 0,
      "outputs": [
        {
          "output_type": "stream",
          "text": [
            "과목수: 4\n",
            "평균: 80.25\n"
          ],
          "name": "stdout"
        }
      ]
    },
    {
      "cell_type": "code",
      "metadata": {
        "colab_type": "code",
        "id": "1Yl74HZQcWkw",
        "outputId": "c99b4069-fd76-4662-84e0-e06d5e4d1628",
        "colab": {
          "base_uri": "https://localhost:8080/",
          "height": 35
        }
      },
      "source": [
        "# [Q7] Code-2\n",
        "subjects = ['파이썬', '영어', '수학', '물리']\n",
        "scores = [91, 67, 88, 75]\n",
        "sum=0\n",
        "for i in range(0,4):\n",
        "  sum+=scores[i]\n",
        "print(sum/4)"
      ],
      "execution_count": 0,
      "outputs": [
        {
          "output_type": "stream",
          "text": [
            "80.25\n"
          ],
          "name": "stdout"
        }
      ]
    },
    {
      "cell_type": "code",
      "metadata": {
        "colab_type": "code",
        "id": "POKZZo1KcW0Q",
        "outputId": "c8b03882-3681-4cf7-adc1-4d1c3ddacc0d",
        "colab": {
          "base_uri": "https://localhost:8080/",
          "height": 107
        }
      },
      "source": [
        "# [Q7] Code-3 #사용자가 입력\n",
        "scores=[]\n",
        "scores.append(input(\"파이썬 점수:\"))\n",
        "scores.append(input(\"영어 점수:\"))\n",
        "scores.append(input(\"수학 점수:\"))\n",
        "scores.append(input(\"물리 점수:\"))\n",
        "sum=int(scores[0])+int(scores[1])+int(scores[2])+int(scores[3])\n",
        "average=sum/4\n",
        "print(\"평균: %.2f\" %average)"
      ],
      "execution_count": 0,
      "outputs": [
        {
          "output_type": "stream",
          "text": [
            "파이썬 점수:91\n",
            "영어 점수:67\n",
            "수학 점수:88\n",
            "물리 점수:75\n",
            "평균: 80.25\n"
          ],
          "name": "stdout"
        }
      ]
    },
    {
      "cell_type": "code",
      "metadata": {
        "id": "t1PE0K0Bhxoi",
        "colab_type": "code",
        "outputId": "757dbe7b-3ef1-4341-cf56-4c491e55eaf1",
        "colab": {
          "base_uri": "https://localhost:8080/",
          "height": 34
        }
      },
      "source": [
        "# [Q7] Code-4 while문 사용\n",
        "subjects = ['파이썬', '영어', '수학', '물리']\n",
        "scores = [91, 67, 88, 75]\n",
        "i=0\n",
        "sum=0\n",
        "while i<4:\n",
        "  sum+=scores[i]\n",
        "  average= sum/len(subjects)\n",
        "  i+=1\n",
        "print(\"평균:\",average)"
      ],
      "execution_count": 0,
      "outputs": [
        {
          "output_type": "stream",
          "text": [
            "평균: 80.25\n"
          ],
          "name": "stdout"
        }
      ]
    },
    {
      "cell_type": "code",
      "metadata": {
        "id": "PwtxKjlgiaPJ",
        "colab_type": "code",
        "outputId": "43b5b4c4-9956-4052-9a44-0bcee5d0dc0a",
        "colab": {
          "base_uri": "https://localhost:8080/",
          "height": 53
        }
      },
      "source": [
        "# [Q7] Code-5 dictionary 사용\n",
        "scores={'파이썬':91, '영어':67, '수학':88, '물리':75}\n",
        "sum=scores['파이썬']+scores['영어']+scores['수학']+scores['물리']\n",
        "average=sum/len(scores)\n",
        "print(list(scores.keys()),\"평균:%.2f\" %average)\n",
        "print(\"평균:\",f'{average:0.2f}')#문자열 포매팅 사용"
      ],
      "execution_count": 0,
      "outputs": [
        {
          "output_type": "stream",
          "text": [
            "['파이썬', '영어', '수학', '물리'] 평균:80.25\n",
            "평균: 80.25\n"
          ],
          "name": "stdout"
        }
      ]
    },
    {
      "cell_type": "markdown",
      "metadata": {
        "id": "2ljBDShkbqZO",
        "colab_type": "text"
      },
      "source": [
        "## 코딩 연습 결과를 github에 올리기\n",
        "> 완성된 ipython 노트북 파일을 각자의 github에 올리시오.\n",
        "\n",
        "- github 계정 만들기 (계정이 없는 학생)\n",
        "    1. github에 sign up (Google gmail 계정을 이용해서 만드시오.)\n",
        "- github에 노트 올리기\n",
        "    2. github에 각자의 id로 repo를 만드시오. (한번 만들면 계속 재사용)\n",
        "    3. github repo에 연습결과 노트를 올리시오.\n",
        "        - 제출노트: ch3_exercises_id.ipynb\n"
      ]
    },
    {
      "cell_type": "code",
      "metadata": {
        "id": "OnCR-YNCc8B6",
        "colab_type": "code",
        "colab": {}
      },
      "source": [
        ""
      ],
      "execution_count": 0,
      "outputs": []
    }
  ]
}