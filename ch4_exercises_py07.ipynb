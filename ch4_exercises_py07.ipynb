{
  "nbformat": 4,
  "nbformat_minor": 0,
  "metadata": {
    "colab": {
      "name": "ch4_exercises_py07.ipynb",
      "provenance": [],
      "collapsed_sections": [],
      "include_colab_link": true
    },
    "kernelspec": {
      "name": "python3",
      "display_name": "Python 3"
    }
  },
  "cells": [
    {
      "cell_type": "markdown",
      "metadata": {
        "id": "view-in-github",
        "colab_type": "text"
      },
      "source": [
        "<a href=\"https://colab.research.google.com/github/KangYein/py07/blob/master/ch4_exercises_py07.ipynb\" target=\"_parent\"><img src=\"https://colab.research.google.com/assets/colab-badge.svg\" alt=\"Open In Colab\"/></a>"
      ]
    },
    {
      "cell_type": "markdown",
      "metadata": {
        "id": "ovY5jkD5dpxE",
        "colab_type": "text"
      },
      "source": [
        "## ch4_exercises.ipynb"
      ]
    },
    {
      "cell_type": "markdown",
      "metadata": {
        "id": "SZw6UnxQWYBe",
        "colab_type": "text"
      },
      "source": [
        "## Q1.\n",
        "> 주어진 자연수가 홀수인지 짝수인지 판별해 주는 함수(is_odd)를 작성해 보자.\n"
      ]
    },
    {
      "cell_type": "code",
      "metadata": {
        "id": "rUNNaqJPdg7B",
        "colab_type": "code",
        "outputId": "4b903d91-4da9-41d5-b565-7ba12dd71ca6",
        "colab": {
          "base_uri": "https://localhost:8080/",
          "height": 179
        }
      },
      "source": [
        "# [Q1] Code 1 함수 호출 사용\n",
        "def is_odd(a):\n",
        "    if a%2==0:print(\"짝수\")\n",
        "    else: print(\"홀수\")\n",
        "count=1\n",
        "print(\"-1을 입력하면 종료됩니다.\")\n",
        "num=int(input(\"%d번째 숫자 입력:\" %count))\n",
        "while num!=-1:\n",
        "  is_odd(num)\n",
        "  count+=1\n",
        "  num=int(input(\"%d번째 숫자 입력:\" %count))\n",
        "print(\"프로그램 종료\")"
      ],
      "execution_count": 0,
      "outputs": [
        {
          "output_type": "stream",
          "text": [
            "-1을 입력하면 종료됩니다.\n",
            "1번째 숫자 입력:10\n",
            "짝수\n",
            "2번째 숫자 입력:11\n",
            "홀수\n",
            "3번째 숫자 입력:12\n",
            "짝수\n",
            "4번째 숫자 입력:-1\n",
            "프로그램 종료\n"
          ],
          "name": "stdout"
        }
      ]
    },
    {
      "cell_type": "code",
      "metadata": {
        "id": "X5_oF07ruBQ1",
        "colab_type": "code",
        "outputId": "5fa43724-773a-4a82-841b-22899f498c79",
        "colab": {
          "base_uri": "https://localhost:8080/",
          "height": 53
        }
      },
      "source": [
        "# [Q1] Code 2 lamba사용\n",
        "is_odd = lambda a: '짝수' if a%2==0 else '홀수'\n",
        "num= int(input(\"숫자:\"))\n",
        "is_odd(num)\n"
      ],
      "execution_count": 73,
      "outputs": [
        {
          "output_type": "stream",
          "text": [
            "숫자:10\n"
          ],
          "name": "stdout"
        },
        {
          "output_type": "execute_result",
          "data": {
            "text/plain": [
              "'짝수'"
            ]
          },
          "metadata": {
            "tags": []
          },
          "execution_count": 73
        }
      ]
    },
    {
      "cell_type": "markdown",
      "metadata": {
        "colab_type": "text",
        "id": "re2-XrUYXF1m"
      },
      "source": [
        "## Q2.\n",
        "> 입력으로 들어오는 모든 수의 평균 값을 계산해 주는 함수를 작성해 보자. \n",
        "- (단 입력으로 들어오는 수의 개수는 정해져 있지 않다.)\n",
        "- ※ 평균 값을 구할 때 len 함수를 사용해 보자.\n"
      ]
    },
    {
      "cell_type": "code",
      "metadata": {
        "colab_type": "code",
        "id": "5MBLUZ5WXF1q",
        "outputId": "7f158d2b-a981-46d7-84a8-e991c4213d0a",
        "colab": {
          "base_uri": "https://localhost:8080/",
          "height": 35
        }
      },
      "source": [
        "# [Q2] Code 1 함수 호출 사용\n",
        "def average(*num): #입력하는 수의 개수는 정해져 있지 않기 때문에 *num을 사용\n",
        "  sum = 0\n",
        "  for i in num:\n",
        "    sum += i\n",
        "  return sum/len(num)\n",
        "\n",
        "average(10,11,12)"
      ],
      "execution_count": 52,
      "outputs": [
        {
          "output_type": "execute_result",
          "data": {
            "text/plain": [
              "11.0"
            ]
          },
          "metadata": {
            "tags": []
          },
          "execution_count": 52
        }
      ]
    },
    {
      "cell_type": "code",
      "metadata": {
        "id": "9U5PqT844u06",
        "colab_type": "code",
        "colab": {
          "base_uri": "https://localhost:8080/",
          "height": 125
        },
        "outputId": "d244c871-5fdb-421f-cd63-80c8e8dc4657"
      },
      "source": [
        "# [Q2] Code 2 while문 사용\n",
        "sum=0\n",
        "count=0\n",
        "print(\"0을 입력하면 종료됩니다.\")\n",
        "num=int(input(\"숫자 입력:\"))\n",
        "while num!=0:\n",
        "  sum+=num\n",
        "  num=int(input(\"숫자 입력:\"))\n",
        "  count+=1\n",
        "print(sum/count)"
      ],
      "execution_count": 75,
      "outputs": [
        {
          "output_type": "stream",
          "text": [
            "0을 입력하면 종료됩니다.\n",
            "숫자 입력:10\n",
            "숫자 입력:11\n",
            "숫자 입력:12\n",
            "숫자 입력:0\n",
            "11.0\n"
          ],
          "name": "stdout"
        }
      ]
    },
    {
      "cell_type": "markdown",
      "metadata": {
        "colab_type": "text",
        "id": "UZy8lu_BXGnT"
      },
      "source": [
        "## Q3.\n",
        "> 다음은 두 개의 숫자를 입력받아 더하여 돌려주는 프로그램이다.\n",
        "\n",
        "```\n",
        "input1 = input(\"첫번째 숫자를 입력하세요:\")\n",
        "input2 = input(\"두번째 숫자를 입력하세요:\")\n",
        "\n",
        "total = input1 + input2\n",
        "print(\"두 수의 합은 %s 입니다\" % total)\n",
        "\n",
        "```\n",
        "---\n",
        "> 이 프로그램을 수행해 보자.\n",
        "\n",
        ">> 첫번째 숫자를 입력하세요:3  \n",
        ">> 두번째 숫자를 입력하세요:6\n",
        "- 두 수의 합은 36 입니다\n",
        "- 3과 6을 입력했을 때 9가 아닌 36이라는 결괏값을 돌려주었다.  \n",
        "이 프로그램의 오류를 수정해 보자."
      ]
    },
    {
      "cell_type": "code",
      "metadata": {
        "colab_type": "code",
        "id": "H9T_sXHzXGnW",
        "outputId": "e3ff3aff-3fd3-4049-dbd6-f235ac4ae2cd",
        "colab": {
          "base_uri": "https://localhost:8080/",
          "height": 71
        }
      },
      "source": [
        "# [Q3] Code\n",
        "#오류난 이유:input은 항상 문자열로 받기 때문에 입력받은 수를 더하면 문자열 연산이 된다.\n",
        "input1 = int(input(\"첫번째 숫자를 입력하세요:\")) #숫자로 바꿔야 한다.\n",
        "input2 = input(\"두번째 숫자를 입력하세요:\")\n",
        " \n",
        "total = input1 + int(input2) #더하기 전에 바꿔도 된다.\n",
        "print(\"두 수의 합은 %s 입니다\" % total)\n"
      ],
      "execution_count": 81,
      "outputs": [
        {
          "output_type": "stream",
          "text": [
            "첫번째 숫자를 입력하세요:3\n",
            "두번째 숫자를 입력하세요:6\n",
            "두 수의 합은 9 입니다\n"
          ],
          "name": "stdout"
        }
      ]
    },
    {
      "cell_type": "markdown",
      "metadata": {
        "colab_type": "text",
        "id": "fqypxxqTXHY7"
      },
      "source": [
        "## Q4.\n",
        "> 다음 중 출력 결과가 다른 것 한 개를 골라 보자.\n",
        "\n",
        "```\n",
        "print(\"you\" \"need\" \"python\")\n",
        "print(\"you\"+\"need\"+\"python\")\n",
        "print(\"you\", \"need\", \"python\")\n",
        "print(\"\".join([\"you\", \"need\", \"python\"]))\n",
        "```"
      ]
    },
    {
      "cell_type": "code",
      "metadata": {
        "colab_type": "code",
        "id": "oQ5UnmayXHY-",
        "colab": {
          "base_uri": "https://localhost:8080/",
          "height": 125
        },
        "outputId": "13e6f2bd-431b-43a8-fe29-257ec92937c6"
      },
      "source": [
        "# [Q4] Code 1\n",
        "print(\"you\" \"need\" \"python\")\n",
        "print(\"you\"+\"need\"+\"python\")\n",
        "print(\"---------------------\")\n",
        "print(\"you\", \"need\", \"python\") #콤마가 있으면 공백이 추가된다.\n",
        "print(\"---------------------\")\n",
        "print(\"\".join([\"you\", \"need\", \"python\"])) #리스트에서 문자열으로 바꿔준다"
      ],
      "execution_count": 101,
      "outputs": [
        {
          "output_type": "stream",
          "text": [
            "youneedpython\n",
            "youneedpython\n",
            "---------------------\n",
            "you need python\n",
            "---------------------\n",
            "youneedpython\n"
          ],
          "name": "stdout"
        }
      ]
    },
    {
      "cell_type": "code",
      "metadata": {
        "id": "XJKt01Dq_gXp",
        "colab_type": "code",
        "colab": {
          "base_uri": "https://localhost:8080/",
          "height": 53
        },
        "outputId": "982118e7-8adf-4d1d-e410-cfae127ca5e6"
      },
      "source": [
        "# [Q4] Code 2 추가 설명\n",
        "a=[\"you\", \"need\", \"python\"]\n",
        "print(len(a)) #3개의 \n",
        "a=\"\".join([\"you\", \"need\", \"python\"] )# a 에 있는 함수들을 공란(\" \")과 하나씩 합쳐서 string 변수를 만든다.\n",
        "#youneedpython의 의  개수를 불러온다.\n",
        "len(a)"
      ],
      "execution_count": 102,
      "outputs": [
        {
          "output_type": "stream",
          "text": [
            "3\n"
          ],
          "name": "stdout"
        },
        {
          "output_type": "execute_result",
          "data": {
            "text/plain": [
              "13"
            ]
          },
          "metadata": {
            "tags": []
          },
          "execution_count": 102
        }
      ]
    },
    {
      "cell_type": "markdown",
      "metadata": {
        "colab_type": "text",
        "id": "NKsvciXZXIL-"
      },
      "source": [
        "## Q5.\n",
        "> 다음은 \"test.txt\"라는 파일에 \"Life is too short\" 문자열을 저장한 후 다시 그 파일을 읽어서 출력하는 프로그램이다.\n",
        "\n",
        "```\n",
        "f1 = open(\"test.txt\", 'w')\n",
        "f1.write(\"Life is too short\")\n",
        "\n",
        "f2 = open(\"test.txt\", 'r')\n",
        "print(f2.read())\n",
        "\n",
        "```\n",
        ">> 이 프로그램은 우리가 예상한 \"Life is too short\"라는 문장을 출력하지 않는다.\n",
        "\n",
        ">> 우리가 예상한 값을 출력할 수 있도록 프로그램을 수정해 보자."
      ]
    },
    {
      "cell_type": "code",
      "metadata": {
        "colab_type": "code",
        "id": "5MZQYOVjXIL_",
        "colab": {
          "base_uri": "https://localhost:8080/",
          "height": 35
        },
        "outputId": "1bba3abe-c1b4-4663-8042-ec17b6b2353c"
      },
      "source": [
        "# [Q5] Code 1\n",
        "f1 = open(\"test.txt\", 'w') #쓰기 모드- 파일에 내용을 쓸 때 사용(지정 내용을 지우고 새로운 내용을 적을 때)\n",
        "f1.write(\"Life is too short\")\n",
        "f1.close()#파일을 닫지 않은 상태에서 다시 열면 파일에 저장한 데이터를 읽을 수 없다.따라서 열린 파일 객체를 close로 닫아준 후 다시 열어서 파일의 내용을 읽어야 한다.\n",
        "\n",
        "f2 = open(\"test.txt\", 'r') #읽기 모드-파일을 읽기만 할 때 사용\n",
        "print(f2.read())\n",
        "f2.close()\n"
      ],
      "execution_count": 115,
      "outputs": [
        {
          "output_type": "stream",
          "text": [
            "Life is too short\n"
          ],
          "name": "stdout"
        }
      ]
    },
    {
      "cell_type": "code",
      "metadata": {
        "id": "4FWrLqsTE7Zx",
        "colab_type": "code",
        "colab": {
          "base_uri": "https://localhost:8080/",
          "height": 35
        },
        "outputId": "ed996c35-a45d-4f29-80db-4ff2752d4d61"
      },
      "source": [
        "# [Q5] Code 2\n",
        "with open(\"test.txt\", 'w') as f1: #쓰기 모드이므로 Code1에 있던 내용이 지워지고 새로 추가된다,\n",
        "    f1.write(\"Life is too short\")\n",
        "with open(\"test.txt\", 'r') as f2:\n",
        "    print(f2.read())"
      ],
      "execution_count": 118,
      "outputs": [
        {
          "output_type": "stream",
          "text": [
            "Life is too short\n"
          ],
          "name": "stdout"
        }
      ]
    },
    {
      "cell_type": "markdown",
      "metadata": {
        "colab_type": "text",
        "id": "-3KHtOOoXJBV"
      },
      "source": [
        "## Q6.\n",
        "> 사용자의 입력을 파일(test.txt)에 저장하는 프로그램을 작성해 보자. \n",
        "- (단 프로그램을 다시 실행하더라도 기존에 작성한 내용을 유지하고 새로 입력한 내용을 추가해야 한다.)\n"
      ]
    },
    {
      "cell_type": "code",
      "metadata": {
        "colab_type": "code",
        "id": "AjYR0lUaXJBa",
        "colab": {
          "base_uri": "https://localhost:8080/",
          "height": 53
        },
        "outputId": "875bce02-3376-4bcf-bd18-17cb139e003f"
      },
      "source": [
        "# [Q6] Code 1\n",
        "add=input(\"내용을 입력하세요:\")\n",
        "f1 = open(\"test.txt\", 'a')\n",
        "f1.write(add)\n",
        "f1.close()\n",
        "\n",
        "f2 = open(\"test.txt\", 'r') #읽기 모드-파일을 읽기만 할 때 사용\n",
        "print(f2.read())\n",
        "f2.close()"
      ],
      "execution_count": 156,
      "outputs": [
        {
          "output_type": "stream",
          "text": [
            "내용을 입력하세요:파이썬 숙제\n",
            "파이썬 숙제\n"
          ],
          "name": "stdout"
        }
      ]
    },
    {
      "cell_type": "code",
      "metadata": {
        "id": "P_WAxvEBGDg5",
        "colab_type": "code",
        "colab": {
          "base_uri": "https://localhost:8080/",
          "height": 53
        },
        "outputId": "bddc8c4f-e45a-4491-a5c0-6d3a7679401a"
      },
      "source": [
        "# [Q5] Code 2\n",
        "with open(\"test.txt\", 'a') as f1: #Code 1에서 저장한 파일에 추가해서 글쓰기\n",
        "    a=input(\"내용을 입력하세요:\")\n",
        "    f1.write(a)\n",
        "with open(\"test.txt\", 'r') as f2:\n",
        "    print(f2.read())"
      ],
      "execution_count": 157,
      "outputs": [
        {
          "output_type": "stream",
          "text": [
            "내용을 입력하세요: 조금만 더 힘내요!!\n",
            "파이썬 숙제 조금만 더 힘내요!!\n"
          ],
          "name": "stdout"
        }
      ]
    },
    {
      "cell_type": "markdown",
      "metadata": {
        "colab_type": "text",
        "id": "YrS3b88QbmKo"
      },
      "source": [
        "## Q7.\n",
        "> 다음과 같은 내용을 지닌 파일 foo1.txt가 있다. 이 파일의 내용 중 \"java\"라는 문자열을 \"python\"으로 바꾸어서 저장해 보자.\n",
        "\n",
        ">> Life is too short  \n",
        ">> you need java\n",
        "\n",
        "- ※ replace 함수를 사용해 보자.\n"
      ]
    },
    {
      "cell_type": "code",
      "metadata": {
        "colab_type": "code",
        "id": "Ll_2InMWbmKq",
        "colab": {
          "base_uri": "https://localhost:8080/",
          "height": 53
        },
        "outputId": "ce4623de-3a11-4f83-cc46-3901f184216c"
      },
      "source": [
        "# [Q7] Code 1\n",
        "f1 = open('foo1.txt','w')\n",
        "f1.write(\"Life is too short\")\n",
        "f1.write(\"\\n\")\n",
        "f1.write(\"you need java\")\n",
        "f1.close()\n",
        "\n",
        "f2 = open('foo1.txt','r')\n",
        "f = f2.read()\n",
        "f2.close()\n",
        "\n",
        "f = f.replace('java','python')\n",
        "\n",
        "f3 = open('foo1.txt','w')\n",
        "f3.write(f)\n",
        "f3.close()\n",
        "\n",
        "f3= open(\"foo1.txt\",'r')\n",
        "print(f3.read())\n",
        "f3.close()"
      ],
      "execution_count": 170,
      "outputs": [
        {
          "output_type": "stream",
          "text": [
            "Life is too short\n",
            "you need python\n"
          ],
          "name": "stdout"
        }
      ]
    },
    {
      "cell_type": "code",
      "metadata": {
        "id": "SlcAmDCQL27A",
        "colab_type": "code",
        "colab": {
          "base_uri": "https://localhost:8080/",
          "height": 89
        },
        "outputId": "71ada532-4e32-4110-a8f7-13cf37598000"
      },
      "source": [
        "# [Q5] Code 2\n",
        "with open(\"foo1.txt\", 'w') as f1:\n",
        "    f1.write(\"Life is too short\")\n",
        "    f1.write(\"\\n\")\n",
        "    f1.write(\"you need java\")\n",
        "with open(\"foo1.txt\", 'r') as f2:\n",
        "    print(f2.read())\n",
        "\n",
        "with open(\"foo1.txt\", 'r') as f3: \n",
        "    f = f3.read()\n",
        "\n",
        "f = f.replace('java','python')\n",
        "\n",
        "with open(\"foo1.txt\", 'w') as f4:\n",
        "    f4.write(f)\n",
        "with open(\"foo1.txt\", 'r') as f5:\n",
        "    print(f5.read())"
      ],
      "execution_count": 183,
      "outputs": [
        {
          "output_type": "stream",
          "text": [
            "Life is too short\n",
            "you need java\n",
            "Life is too short\n",
            "you need python\n"
          ],
          "name": "stdout"
        }
      ]
    },
    {
      "cell_type": "markdown",
      "metadata": {
        "id": "2ljBDShkbqZO",
        "colab_type": "text"
      },
      "source": [
        "## 코딩 연습 결과를 github에 올리기\n",
        "> 완성된 ipython 노트북 파일을 각자의 github에 올리시오.\n",
        "\n",
        "- github 계정 만들기 (계정이 없는 학생)\n",
        "    1. github에 sign up (Google gmail 계정을 이용해서 만드시오.)\n",
        "- github에 노트 올리기\n",
        "    2. github에 각자의 id로 repo를 만드시오. (한번 만들면 계속 재사용)\n",
        "    3. github repo에 연습결과 노트를 올리시오.\n",
        "        - 제출노트: ch4_exercises_id.ipynb\n"
      ]
    },
    {
      "cell_type": "code",
      "metadata": {
        "id": "OnCR-YNCc8B6",
        "colab_type": "code",
        "colab": {}
      },
      "source": [
        ""
      ],
      "execution_count": 0,
      "outputs": []
    }
  ]
}